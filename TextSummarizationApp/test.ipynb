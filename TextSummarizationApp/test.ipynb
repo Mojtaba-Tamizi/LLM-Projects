{
 "cells": [
  {
   "cell_type": "markdown",
   "metadata": {},
   "source": [
    "# Text Summarization App\n",
    "This notebook is just for testing parts of the app before creating the final python files."
   ]
  },
  {
   "cell_type": "code",
   "execution_count": 1,
   "metadata": {},
   "outputs": [],
   "source": [
    "MODEL = 'llama3.2'\n",
    "system_prompt = 'You are an assistant that summarizes the text given to you. This summary must be consise and coherent. Respond in markdown.'\n"
   ]
  },
  {
   "cell_type": "code",
   "execution_count": 2,
   "metadata": {},
   "outputs": [],
   "source": [
    "messages = [\n",
    "    {'role': 'system', 'content': system_prompt}\n",
    "    ]"
   ]
  },
  {
   "cell_type": "code",
   "execution_count": 3,
   "metadata": {},
   "outputs": [],
   "source": [
    "def user_prompt(messages, text):\n",
    "    user_prompt = f'You are looking at a text that you should summarize. The text is as follows: \\n\\n{text}'\n",
    "    messages.append({'role': 'user', 'content': user_prompt})\n",
    "    return messages"
   ]
  },
  {
   "cell_type": "code",
   "execution_count": 4,
   "metadata": {},
   "outputs": [],
   "source": [
    "m = \"\"\"The sky appears blue because of a phenomenon called Rayleigh scattering, named after the British physicist Lord Rayleigh, who first described it in the late 19th century.\n",
    "\n",
    "Here's what happens:\n",
    "\n",
    "1. Sunlight enters Earth's atmosphere and is composed of a spectrum of colors, including red, orange, yellow, green, blue, indigo, and violet.\n",
    "2. When sunlight interacts with the tiny molecules of gases in the atmosphere, such as nitrogen (N2) and oxygen (O2), it scatters in all directions.\n",
    "3. The shorter (blue) wavelengths of light are scattered more than the longer (red) wavelengths because they have a smaller size and are more easily deflected by the gas molecules.\n",
    "4. As a result of this scattering, the blue light is distributed throughout the atmosphere and reaches our eyes from all directions, making the sky appear blue.\n",
    "\n",
    "It's worth noting that the color of the sky can change depending on several factors, such as:\n",
    "\n",
    "* Time of day: During sunrise and sunset, the sky often takes on hues of red, orange, and pink due to the scattering of light by atmospheric particles.\n",
    "* Weather conditions: Clouds, dust, and pollution can scatter light in different ways, changing the apparent color of the sky.\n",
    "* Atmospheric conditions: The amount of atmospheric gases, temperature, and humidity can all affect the way light is scattered and the resulting color of the sky.\n",
    "\n",
    "So, to sum it up, the sky appears blue because of the scattering of sunlight by tiny molecules in the atmosphere, which favors shorter (blue) wavelengths over longer (red) wavelengths.\n",
    "The sky appears blue because of a phenomenon called Rayleigh scattering, named after the British physicist Lord Rayleigh, who first described it in the late 19th century.\n",
    "\n",
    "Here's what happens:\n",
    "\n",
    "1. Sunlight enters Earth's atmosphere and is composed of a spectrum of colors, including red, orange, yellow, green, blue, indigo, and violet.\n",
    "2. When sunlight interacts with the tiny molecules of gases in the atmosphere, such as nitrogen (N2) and oxygen (O2), it scatters in all directions.\n",
    "3. The shorter (blue) wavelengths of light are scattered more than the longer (red) wavelengths because they have a smaller size and are more easily deflected by the gas molecules.\n",
    "4. As a result of this scattering, the blue light is distributed throughout the atmosphere and reaches our eyes from all directions, making the sky appear blue.\n",
    "\n",
    "It's worth noting that the color of the sky can change depending on several factors, such as:\n",
    "\n",
    "* Time of day: During sunrise and sunset, the sky often takes on hues of red, orange, and pink due to the scattering of light by atmospheric particles.\n",
    "* Weather conditions: Clouds, dust, and pollution can scatter light in different ways, changing the apparent color of the sky.\n",
    "* Atmospheric conditions: The amount of atmospheric gases, temperature, and humidity can all affect the way light is scattered and the resulting color of the sky.\n",
    "\n",
    "So, to sum it up, the sky appears blue because of the scattering of sunlight by tiny molecules in the atmosphere, which favors shorter (blue) wavelengths over longer (red) wavelengths.\"\"\""
   ]
  },
  {
   "cell_type": "code",
   "execution_count": 5,
   "metadata": {},
   "outputs": [
    {
     "data": {
      "text/plain": [
       "[{'role': 'system',\n",
       "  'content': 'You are an assistant that summarizes the text given to you. This summary must be consise and coherent. Respond in markdown.'},\n",
       " {'role': 'user',\n",
       "  'content': \"You are looking at a text that you should summarize. The text is as follows: \\n\\nThe sky appears blue because of a phenomenon called Rayleigh scattering, named after the British physicist Lord Rayleigh, who first described it in the late 19th century.\\n\\nHere's what happens:\\n\\n1. Sunlight enters Earth's atmosphere and is composed of a spectrum of colors, including red, orange, yellow, green, blue, indigo, and violet.\\n2. When sunlight interacts with the tiny molecules of gases in the atmosphere, such as nitrogen (N2) and oxygen (O2), it scatters in all directions.\\n3. The shorter (blue) wavelengths of light are scattered more than the longer (red) wavelengths because they have a smaller size and are more easily deflected by the gas molecules.\\n4. As a result of this scattering, the blue light is distributed throughout the atmosphere and reaches our eyes from all directions, making the sky appear blue.\\n\\nIt's worth noting that the color of the sky can change depending on several factors, such as:\\n\\n* Time of day: During sunrise and sunset, the sky often takes on hues of red, orange, and pink due to the scattering of light by atmospheric particles.\\n* Weather conditions: Clouds, dust, and pollution can scatter light in different ways, changing the apparent color of the sky.\\n* Atmospheric conditions: The amount of atmospheric gases, temperature, and humidity can all affect the way light is scattered and the resulting color of the sky.\\n\\nSo, to sum it up, the sky appears blue because of the scattering of sunlight by tiny molecules in the atmosphere, which favors shorter (blue) wavelengths over longer (red) wavelengths.\\nThe sky appears blue because of a phenomenon called Rayleigh scattering, named after the British physicist Lord Rayleigh, who first described it in the late 19th century.\\n\\nHere's what happens:\\n\\n1. Sunlight enters Earth's atmosphere and is composed of a spectrum of colors, including red, orange, yellow, green, blue, indigo, and violet.\\n2. When sunlight interacts with the tiny molecules of gases in the atmosphere, such as nitrogen (N2) and oxygen (O2), it scatters in all directions.\\n3. The shorter (blue) wavelengths of light are scattered more than the longer (red) wavelengths because they have a smaller size and are more easily deflected by the gas molecules.\\n4. As a result of this scattering, the blue light is distributed throughout the atmosphere and reaches our eyes from all directions, making the sky appear blue.\\n\\nIt's worth noting that the color of the sky can change depending on several factors, such as:\\n\\n* Time of day: During sunrise and sunset, the sky often takes on hues of red, orange, and pink due to the scattering of light by atmospheric particles.\\n* Weather conditions: Clouds, dust, and pollution can scatter light in different ways, changing the apparent color of the sky.\\n* Atmospheric conditions: The amount of atmospheric gases, temperature, and humidity can all affect the way light is scattered and the resulting color of the sky.\\n\\nSo, to sum it up, the sky appears blue because of the scattering of sunlight by tiny molecules in the atmosphere, which favors shorter (blue) wavelengths over longer (red) wavelengths.\"}]"
      ]
     },
     "execution_count": 5,
     "metadata": {},
     "output_type": "execute_result"
    }
   ],
   "source": [
    "user_prompt(messages, m)"
   ]
  },
  {
   "cell_type": "code",
   "execution_count": 6,
   "metadata": {},
   "outputs": [
    {
     "name": "stdout",
     "output_type": "stream",
     "text": [
      "# Summary\n",
      "The text explains why the sky appears blue due to Rayleigh scattering, a phenomenon named after British physicist Lord Rayleigh. Here's a concise summary:\n",
      "\n",
      "## Key Points\n",
      "- Sunlight enters Earth's atmosphere and scatters in all directions.\n",
      "- Shorter (blue) wavelengths are scattered more than longer (red) wavelengths by gas molecules.\n",
      "- The blue light is distributed throughout the atmosphere, making it visible to our eyes.\n",
      "\n",
      "## Factors Affecting Sky Color\n",
      "- Time of day: Sunrise and sunset can change the sky's color due to scattering by atmospheric particles.\n",
      "- Weather conditions: Clouds, dust, and pollution can scatter light differently.\n",
      "- Atmospheric conditions: Gas composition, temperature, and humidity affect light scattering.\n"
     ]
    }
   ],
   "source": [
    "import ollama\n",
    "\n",
    "response = ollama.chat(model= MODEL, \n",
    "                       messages=user_prompt(messages, m)\n",
    "                    )\n",
    "print(response['message']['content'])"
   ]
  },
  {
   "cell_type": "code",
   "execution_count": 8,
   "metadata": {},
   "outputs": [
    {
     "data": {
      "text/markdown": [
       "# Summary\n",
       "The text explains why the sky appears blue due to Rayleigh scattering, a phenomenon named after British physicist Lord Rayleigh. Here's a concise summary:\n",
       "\n",
       "## Key Points\n",
       "- Sunlight enters Earth's atmosphere and scatters in all directions.\n",
       "- Shorter (blue) wavelengths are scattered more than longer (red) wavelengths by gas molecules.\n",
       "- The blue light is distributed throughout the atmosphere, making it visible to our eyes.\n",
       "\n",
       "## Factors Affecting Sky Color\n",
       "- Time of day: Sunrise and sunset can change the sky's color due to scattering by atmospheric particles.\n",
       "- Weather conditions: Clouds, dust, and pollution can scatter light differently.\n",
       "- Atmospheric conditions: Gas composition, temperature, and humidity affect light scattering."
      ],
      "text/plain": [
       "<IPython.core.display.Markdown object>"
      ]
     },
     "metadata": {},
     "output_type": "display_data"
    }
   ],
   "source": [
    "from IPython.display import Markdown, display\n",
    "# Display the markdown content\n",
    "display(Markdown(response['message']['content']))"
   ]
  },
  {
   "cell_type": "code",
   "execution_count": null,
   "metadata": {},
   "outputs": [],
   "source": []
  }
 ],
 "metadata": {
  "kernelspec": {
   "display_name": "llms",
   "language": "python",
   "name": "python3"
  },
  "language_info": {
   "codemirror_mode": {
    "name": "ipython",
    "version": 3
   },
   "file_extension": ".py",
   "mimetype": "text/x-python",
   "name": "python",
   "nbconvert_exporter": "python",
   "pygments_lexer": "ipython3",
   "version": "3.11.11"
  }
 },
 "nbformat": 4,
 "nbformat_minor": 2
}
